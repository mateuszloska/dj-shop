{
 "cells": [
  {
   "cell_type": "code",
   "execution_count": 1,
   "id": "0e139a11",
   "metadata": {},
   "outputs": [],
   "source": [
    "json_data = {\"product_name\": \"Kaka\",\n",
    "            \"amount\": 5}"
   ]
  },
  {
   "cell_type": "code",
   "execution_count": 21,
   "id": "3934ab46",
   "metadata": {},
   "outputs": [
    {
     "name": "stdout",
     "output_type": "stream",
     "text": [
      "[]\n",
      "[{'product_name': 'Kaka', 'amount': 5}, {'product_name': 'Kaka', 'amount': 5}]\n",
      "[{'product_name': 'Kaka', 'amount': 5}]\n",
      "{'product_name': 'Kaka', 'amount': 5}\n"
     ]
    }
   ],
   "source": [
    "products_ordered = []\n",
    "\n",
    "print(products_ordered)\n",
    "\n",
    "products_ordered.append(json_data)\n",
    "products_ordered.append(json_data)\n",
    "print(products_ordered)\n",
    "\n",
    "products_ordered = [json_data]\n",
    "print(products_ordered)\n",
    "\n",
    "\n",
    "data_2 = {\"product_name\": \"Kuku\",\n",
    "            \"amount\": 3}\n",
    "\n",
    "data_3 = {\"product_name\": \"Kaka\",\n",
    "            \"amount\": 3}\n",
    "\n",
    "for k in products_ordered:\n",
    "    print(k)\n"
   ]
  }
 ],
 "metadata": {
  "kernelspec": {
   "display_name": "Python 3",
   "language": "python",
   "name": "python3"
  },
  "language_info": {
   "codemirror_mode": {
    "name": "ipython",
    "version": 3
   },
   "file_extension": ".py",
   "mimetype": "text/x-python",
   "name": "python",
   "nbconvert_exporter": "python",
   "pygments_lexer": "ipython3",
   "version": "3.8.8"
  }
 },
 "nbformat": 4,
 "nbformat_minor": 5
}
