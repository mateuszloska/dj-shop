{
 "cells": [
  {
   "cell_type": "code",
   "execution_count": 1,
   "id": "d6715ab2",
   "metadata": {},
   "outputs": [],
   "source": [
    "json_data = {\"product_name\": \"Kaka\",\n",
    "            \"amount\": 5}"
   ]
  },
  {
   "cell_type": "code",
   "execution_count": 17,
   "id": "37351ad9",
   "metadata": {},
   "outputs": [
    {
     "name": "stdout",
     "output_type": "stream",
     "text": [
      "[]\n",
      "[{'product_name': 'KEjki', 'amount': 3}, {'product_name': 'KEjki', 'amount': 3}]\n",
      "[{'product_name': 'KEjki', 'amount': 3}]\n",
      "[{'product_name': 'KEjki', 'amount': 6}, {'product_name': 'Kuku', 'amount': 3}]\n"
     ]
    }
   ],
   "source": [
    "products_ordered = []\n",
    "\n",
    "print(products_ordered)\n",
    "\n",
    "products_ordered.append(json_data)\n",
    "products_ordered.append(json_data)\n",
    "print(products_ordered)\n",
    "\n",
    "products_ordered = [json_data]\n",
    "print(products_ordered)\n",
    "\n",
    "\n",
    "data_2 = {\"product_name\": \"Kuku\",\n",
    "            \"amount\": 3}\n",
    "products_ordered.append(data_2)\n",
    "\n",
    "\n",
    "data_3 = {\"product_name\": \"KEjki\",\n",
    "            \"amount\": 3}\n",
    "\n",
    "new_position = True\n",
    "for k in products_ordered:\n",
    "    if(json_data[\"product_name\"] == k[\"product_name\"]):\n",
    "        k[\"amount\"]+=json_data[\"amount\"]\n",
    "        new_position = False\n",
    "        break\n",
    "if(new_position):\n",
    "    products_ordered.append(json_data)\n",
    "    \n",
    "print(products_ordered)\n"
   ]
  }
 ],
 "metadata": {
  "kernelspec": {
   "display_name": "Python 3",
   "language": "python",
   "name": "python3"
  },
  "language_info": {
   "codemirror_mode": {
    "name": "ipython",
    "version": 3
   },
   "file_extension": ".py",
   "mimetype": "text/x-python",
   "name": "python",
   "nbconvert_exporter": "python",
   "pygments_lexer": "ipython3",
   "version": "3.8.8"
  }
 },
 "nbformat": 4,
 "nbformat_minor": 5
}
